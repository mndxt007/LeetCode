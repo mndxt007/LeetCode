{
 "cells": [
  {
   "cell_type": "code",
   "execution_count": 1,
   "metadata": {
    "dotnet_interactive": {
     "language": "csharp"
    },
    "polyglot_notebook": {
     "kernelName": "csharp"
    },
    "vscode": {
     "languageId": "polyglot-notebook"
    }
   },
   "outputs": [
    {
     "data": {
      "text/html": [
       "<div><div></div><div></div><div><strong>Installed Packages</strong><ul><li><span>Microsoft.SemanticKernel, 1.9.0</span></li></ul></div></div>"
      ]
     },
     "metadata": {},
     "output_type": "display_data"
    }
   ],
   "source": [
    "#r \"nuget: Microsoft.SemanticKernel, 1.9.0\""
   ]
  },
  {
   "cell_type": "code",
   "execution_count": 2,
   "metadata": {
    "dotnet_interactive": {
     "language": "csharp"
    },
    "polyglot_notebook": {
     "kernelName": "csharp"
    },
    "vscode": {
     "languageId": "polyglot-notebook"
    }
   },
   "outputs": [],
   "source": [
    "using Microsoft.SemanticKernel;\n",
    "using Microsoft.SemanticKernel.ChatCompletion;"
   ]
  },
  {
   "cell_type": "code",
   "execution_count": 6,
   "metadata": {
    "dotnet_interactive": {
     "language": "csharp"
    },
    "polyglot_notebook": {
     "kernelName": "csharp"
    },
    "vscode": {
     "languageId": "polyglot-notebook"
    }
   },
   "outputs": [],
   "source": [
    "var builder = Kernel.CreateBuilder();\n",
    "#pragma warning disable SKEXP0010\n",
    "builder.AddOpenAIChatCompletion(\"phi3\",endpoint : new Uri(\"http://localhost:11434\"), \"api-key\");\n",
    "var kernel = builder.Build();"
   ]
  },
  {
   "cell_type": "code",
   "execution_count": 10,
   "metadata": {
    "dotnet_interactive": {
     "language": "csharp"
    },
    "polyglot_notebook": {
     "kernelName": "csharp"
    },
    "vscode": {
     "languageId": "polyglot-notebook"
    }
   },
   "outputs": [
    {
     "name": "stdout",
     "output_type": "stream",
     "text": [
      "Subject: Exploring the Beauty of Kerala – A Traveler's Delight! 🌴🍃\n",
      "\n",
      "Dear All,\n",
      "\n",
      "I am excited to share with you an unforgettable journey that I recently embarked upon in a southern corner of India known as Kerala. Nestled along the Malabar Coast on the western edge of South India, this mesmerizing land of enchantment has truly captured my heart and left an everlasting impression!\n",
      "\n",
      "Kerala's scenic beauty is simply unparalleled, with its pristine beaches, verdant backwaters, and majestic mountain ranges. From the serene Munnar hills to the exquisite sway of coconut palms that line its sunny shores, Kerala is an experience that captivates the senses like no other!\n",
      "\n",
      "The heart and soul of this beautiful state is undoubtedly its cultural heritage. The traditional art forms such as Kathakali and Mohiniyattam have mesmerized me with their vibrant dance performances steeped in centuries-old narratives from Indian epics. I was also fortunate to visit the tranquil Cherai beach, a coastal paradise adorned by pristine white sands and azure blue waters that offered respite during sunny days or rainy monsoons alike.\n",
      "\n",
      "In addition to its cultural riches, Kerala is known for its natural abundance - from lush rainforests atop the Western Ghats to the mystical backwaters teeming with an array of water birds and crocodiles. The exotic sights like the Kollam-Maniyadath Hill Corridor Railway and Kuravankadu are some lesser known gems waiting for curious explorers to delve in deeper.\n",
      "\n",
      "A journey through Kerala wouldn't be complete without sampling its tantalizing cuisine, famous for its coconut, fish curry, vegetarian dishes like Aviyal (mixed vegetables cooked with grated coconut and spices) or Sambar made of tofu, and sweet delights like Jiggery jaggery candies.\n",
      "\n",
      "The warmth, friendlinenas seen throughout this state is genuinely heartwarming, as its people have embraced me into their lives with open arms – making my Keralan adventure an unforgettable one indeed! 🤗🇮🇴\n",
      "\n",
      "From the majestic Ayurvedic spas in Kochi to the peaceful tea gardens at Munnar, exploring every corner of this breathtakingly beautiful state will leave a lasting impression on your soul. I highly recommend immersing yourself into the allure and mystique that Kerala so graciously offers - be prepared for an experience that you will carry in your heart forever!\n",
      "\n",
      "Best Regards,\n",
      "[Your Name]"
     ]
    }
   ],
   "source": [
    "await foreach(var chuck in kernel.InvokePromptStreamingAsync<string>(\"Write a note about Kerala\")){\n",
    "    Console.Write(chuck);\n",
    "}\n"
   ]
  },
  {
   "cell_type": "code",
   "execution_count": null,
   "metadata": {
    "dotnet_interactive": {
     "language": "csharp"
    },
    "polyglot_notebook": {
     "kernelName": "csharp"
    },
    "vscode": {
     "languageId": "polyglot-notebook"
    }
   },
   "outputs": [],
   "source": []
  }
 ],
 "metadata": {
  "language_info": {
   "name": "python"
  }
 },
 "nbformat": 4,
 "nbformat_minor": 2
}
