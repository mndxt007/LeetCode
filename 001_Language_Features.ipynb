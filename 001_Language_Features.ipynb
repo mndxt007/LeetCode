{
 "cells": [
  {
   "cell_type": "markdown",
   "metadata": {},
   "source": [
    "# Core Programming Contructs"
   ]
  },
  {
   "cell_type": "markdown",
   "metadata": {},
   "source": [
    "## Enums"
   ]
  },
  {
   "cell_type": "code",
   "execution_count": 9,
   "metadata": {
    "dotnet_interactive": {
     "language": "csharp"
    },
    "polyglot_notebook": {
     "kernelName": "csharp"
    },
    "vscode": {
     "languageId": "polyglot-notebook"
    }
   },
   "outputs": [
    {
     "name": "stdout",
     "output_type": "stream",
     "text": [
      "RomanNumeral.I - 1, RomanNumeral.I.Tostring - I\n",
      "result - 1, result.Tostring - I\n",
      "Is result2 > result? - True\n"
     ]
    }
   ],
   "source": [
    "   public enum RomanNumeral\n",
    "    {\n",
    "        I = 1,\n",
    "        V = 5,\n",
    "        X = 10,\n",
    "        L = 50,\n",
    "        C = 100,\n",
    "        D = 500,\n",
    "        M = 1000\n",
    "    }\n",
    "\n",
    "    string i = \"I\";\n",
    "    string M = \"M\";\n",
    "\n",
    "    Console.WriteLine($\"RomanNumeral.I - {(int)RomanNumeral.I}, RomanNumeral.I.Tostring - {RomanNumeral.I}\");\n",
    "    Enum.TryParse(i,out RomanNumeral result );\n",
    "    Enum.TryParse(M,out RomanNumeral result2 );\n",
    "    Console.WriteLine($\"result - {(int)result}, result.Tostring - {result}\");\n",
    "    Console.WriteLine($\"Is result2 > result? - {result2>result}\");\n",
    "\n",
    "    \n"
   ]
  },
  {
   "cell_type": "markdown",
   "metadata": {},
   "source": [
    "# Collections and Generics"
   ]
  },
  {
   "cell_type": "markdown",
   "metadata": {},
   "source": [
    "Collection Initialization Syntax:\n",
    "\n",
    "* [Object and Collection Initializers (C# Programming Guide](https://learn.microsoft.com/en-us/dotnet/fundamentals/code-analysis/style-rules/ide0028?pivots=dotnet-8-0)\n",
    "* [Use collection initializers or expressions](https://learn.microsoft.com/en-us/dotnet/csharp/programming-guide/classes-and-structs/object-and-collection-initializers)"
   ]
  },
  {
   "cell_type": "code",
   "execution_count": 1,
   "metadata": {
    "dotnet_interactive": {
     "language": "csharp"
    },
    "polyglot_notebook": {
     "kernelName": "csharp"
    },
    "vscode": {
     "languageId": "polyglot-notebook"
    }
   },
   "outputs": [
    {
     "data": {
      "text/html": [
       "<table><thead><tr><th><i>index</i></th><th><i>type</i></th><th>value</th></tr></thead><tbody><tr><td>0</td><td><span><a href=\"https://docs.microsoft.com/dotnet/api/system.string?view=net-7.0\">System.String</a></span></td><td><div class=\"dni-plaintext\"><pre>Hello</pre></div></td></tr><tr><td>1</td><td><span><a href=\"https://docs.microsoft.com/dotnet/api/system.int32?view=net-7.0\">System.Int32</a></span></td><td><div class=\"dni-plaintext\"><pre>1</pre></div></td></tr></tbody></table><style>\r\n",
       ".dni-code-hint {\r\n",
       "    font-style: italic;\r\n",
       "    overflow: hidden;\r\n",
       "    white-space: nowrap;\r\n",
       "}\r\n",
       ".dni-treeview {\r\n",
       "    white-space: nowrap;\r\n",
       "}\r\n",
       ".dni-treeview td {\r\n",
       "    vertical-align: top;\r\n",
       "    text-align: start;\r\n",
       "}\r\n",
       "details.dni-treeview {\r\n",
       "    padding-left: 1em;\r\n",
       "}\r\n",
       "table td {\r\n",
       "    text-align: start;\r\n",
       "}\r\n",
       "table tr { \r\n",
       "    vertical-align: top; \r\n",
       "    margin: 0em 0px;\r\n",
       "}\r\n",
       "table tr td pre \r\n",
       "{ \r\n",
       "    vertical-align: top !important; \r\n",
       "    margin: 0em 0px !important;\r\n",
       "} \r\n",
       "table th {\r\n",
       "    text-align: start;\r\n",
       "}\r\n",
       "</style>"
      ]
     },
     "metadata": {},
     "output_type": "display_data"
    }
   ],
   "source": [
    "var list = new ArrayList();\n",
    "list.Add(\"Hello\");\n",
    "list.Add(1);\n",
    "list.Display();"
   ]
  },
  {
   "cell_type": "code",
   "execution_count": 2,
   "metadata": {
    "dotnet_interactive": {
     "language": "csharp"
    },
    "polyglot_notebook": {
     "kernelName": "csharp"
    },
    "vscode": {
     "languageId": "polyglot-notebook"
    }
   },
   "outputs": [],
   "source": [
    "var list2 = new List<int>();\n",
    "list2.Add(1);\n",
    "//list2.Add(\"hello\");"
   ]
  },
  {
   "cell_type": "code",
   "execution_count": 4,
   "metadata": {
    "dotnet_interactive": {
     "language": "csharp"
    },
    "polyglot_notebook": {
     "kernelName": "csharp"
    },
    "vscode": {
     "languageId": "polyglot-notebook"
    }
   },
   "outputs": [
    {
     "data": {
      "text/html": [
       "<table><thead><tr><th><i>key</i></th><th>value</th></tr></thead><tbody><tr><td><div class=\"dni-plaintext\"><pre>2</pre></div></td><td><div class=\"dni-plaintext\"><pre>Hello</pre></div></td></tr><tr><td><div class=\"dni-plaintext\"><pre>1</pre></div></td><td><div class=\"dni-plaintext\"><pre>World</pre></div></td></tr></tbody></table><style>\r\n",
       ".dni-code-hint {\r\n",
       "    font-style: italic;\r\n",
       "    overflow: hidden;\r\n",
       "    white-space: nowrap;\r\n",
       "}\r\n",
       ".dni-treeview {\r\n",
       "    white-space: nowrap;\r\n",
       "}\r\n",
       ".dni-treeview td {\r\n",
       "    vertical-align: top;\r\n",
       "    text-align: start;\r\n",
       "}\r\n",
       "details.dni-treeview {\r\n",
       "    padding-left: 1em;\r\n",
       "}\r\n",
       "table td {\r\n",
       "    text-align: start;\r\n",
       "}\r\n",
       "table tr { \r\n",
       "    vertical-align: top; \r\n",
       "    margin: 0em 0px;\r\n",
       "}\r\n",
       "table tr td pre \r\n",
       "{ \r\n",
       "    vertical-align: top !important; \r\n",
       "    margin: 0em 0px !important;\r\n",
       "} \r\n",
       "table th {\r\n",
       "    text-align: start;\r\n",
       "}\r\n",
       "</style>"
      ]
     },
     "metadata": {},
     "output_type": "display_data"
    }
   ],
   "source": [
    "Dictionary<int,string> mellow = new();\n",
    "mellow.Add(2,\"Hello\");\n",
    "mellow.Add(1,\"World\");\n",
    "mellow.Display();"
   ]
  },
  {
   "cell_type": "code",
   "execution_count": 7,
   "metadata": {
    "dotnet_interactive": {
     "language": "csharp"
    },
    "polyglot_notebook": {
     "kernelName": "csharp"
    },
    "vscode": {
     "languageId": "polyglot-notebook"
    }
   },
   "outputs": [
    {
     "data": {
      "text/html": [
       "<table><thead><tr><th><i>key</i></th><th>value</th></tr></thead><tbody><tr><td><div class=\"dni-plaintext\"><pre>1</pre></div></td><td><div class=\"dni-plaintext\"><pre>World</pre></div></td></tr><tr><td><div class=\"dni-plaintext\"><pre>2</pre></div></td><td><div class=\"dni-plaintext\"><pre>Hello</pre></div></td></tr></tbody></table><style>\r\n",
       ".dni-code-hint {\r\n",
       "    font-style: italic;\r\n",
       "    overflow: hidden;\r\n",
       "    white-space: nowrap;\r\n",
       "}\r\n",
       ".dni-treeview {\r\n",
       "    white-space: nowrap;\r\n",
       "}\r\n",
       ".dni-treeview td {\r\n",
       "    vertical-align: top;\r\n",
       "    text-align: start;\r\n",
       "}\r\n",
       "details.dni-treeview {\r\n",
       "    padding-left: 1em;\r\n",
       "}\r\n",
       "table td {\r\n",
       "    text-align: start;\r\n",
       "}\r\n",
       "table tr { \r\n",
       "    vertical-align: top; \r\n",
       "    margin: 0em 0px;\r\n",
       "}\r\n",
       "table tr td pre \r\n",
       "{ \r\n",
       "    vertical-align: top !important; \r\n",
       "    margin: 0em 0px !important;\r\n",
       "} \r\n",
       "table th {\r\n",
       "    text-align: start;\r\n",
       "}\r\n",
       "</style>"
      ]
     },
     "metadata": {},
     "output_type": "display_data"
    }
   ],
   "source": [
    "SortedDictionary<int,string> mellow = new();\n",
    "mellow.Add(2,\"Hello\");\n",
    "mellow.Add(1,\"World\");\n",
    "mellow.Display();\n",
    "\n",
    "//Automatic sorting"
   ]
  },
  {
   "cell_type": "code",
   "execution_count": 6,
   "metadata": {
    "dotnet_interactive": {
     "language": "csharp"
    },
    "polyglot_notebook": {
     "kernelName": "csharp"
    },
    "vscode": {
     "languageId": "polyglot-notebook"
    }
   },
   "outputs": [
    {
     "data": {
      "text/html": [
       "<div class=\"dni-plaintext\"><pre>[ 1, 2 ]</pre></div><style>\r\n",
       ".dni-code-hint {\r\n",
       "    font-style: italic;\r\n",
       "    overflow: hidden;\r\n",
       "    white-space: nowrap;\r\n",
       "}\r\n",
       ".dni-treeview {\r\n",
       "    white-space: nowrap;\r\n",
       "}\r\n",
       ".dni-treeview td {\r\n",
       "    vertical-align: top;\r\n",
       "    text-align: start;\r\n",
       "}\r\n",
       "details.dni-treeview {\r\n",
       "    padding-left: 1em;\r\n",
       "}\r\n",
       "table td {\r\n",
       "    text-align: start;\r\n",
       "}\r\n",
       "table tr { \r\n",
       "    vertical-align: top; \r\n",
       "    margin: 0em 0px;\r\n",
       "}\r\n",
       "table tr td pre \r\n",
       "{ \r\n",
       "    vertical-align: top !important; \r\n",
       "    margin: 0em 0px !important;\r\n",
       "} \r\n",
       "table th {\r\n",
       "    text-align: start;\r\n",
       "}\r\n",
       "</style>"
      ]
     },
     "metadata": {},
     "output_type": "display_data"
    }
   ],
   "source": [
    "SortedSet<int> set1 = new();\n",
    "set1.Add(2);\n",
    "set1.Add(2);\n",
    "set1.Add(1);\n",
    "set1.Display();\n",
    "\n",
    "//Automatic sorting + no duplicates"
   ]
  },
  {
   "cell_type": "code",
   "execution_count": 7,
   "metadata": {
    "dotnet_interactive": {
     "language": "csharp"
    },
    "polyglot_notebook": {
     "kernelName": "csharp"
    },
    "vscode": {
     "languageId": "polyglot-notebook"
    }
   },
   "outputs": [
    {
     "data": {
      "text/html": [
       "<div class=\"dni-plaintext\"><pre>False</pre></div><style>\r\n",
       ".dni-code-hint {\r\n",
       "    font-style: italic;\r\n",
       "    overflow: hidden;\r\n",
       "    white-space: nowrap;\r\n",
       "}\r\n",
       ".dni-treeview {\r\n",
       "    white-space: nowrap;\r\n",
       "}\r\n",
       ".dni-treeview td {\r\n",
       "    vertical-align: top;\r\n",
       "    text-align: start;\r\n",
       "}\r\n",
       "details.dni-treeview {\r\n",
       "    padding-left: 1em;\r\n",
       "}\r\n",
       "table td {\r\n",
       "    text-align: start;\r\n",
       "}\r\n",
       "table tr { \r\n",
       "    vertical-align: top; \r\n",
       "    margin: 0em 0px;\r\n",
       "}\r\n",
       "table tr td pre \r\n",
       "{ \r\n",
       "    vertical-align: top !important; \r\n",
       "    margin: 0em 0px !important;\r\n",
       "} \r\n",
       "table th {\r\n",
       "    text-align: start;\r\n",
       "}\r\n",
       "</style>"
      ]
     },
     "metadata": {},
     "output_type": "display_data"
    },
    {
     "data": {
      "text/html": [
       "<div class=\"dni-plaintext\"><pre>False</pre></div><style>\r\n",
       ".dni-code-hint {\r\n",
       "    font-style: italic;\r\n",
       "    overflow: hidden;\r\n",
       "    white-space: nowrap;\r\n",
       "}\r\n",
       ".dni-treeview {\r\n",
       "    white-space: nowrap;\r\n",
       "}\r\n",
       ".dni-treeview td {\r\n",
       "    vertical-align: top;\r\n",
       "    text-align: start;\r\n",
       "}\r\n",
       "details.dni-treeview {\r\n",
       "    padding-left: 1em;\r\n",
       "}\r\n",
       "table td {\r\n",
       "    text-align: start;\r\n",
       "}\r\n",
       "table tr { \r\n",
       "    vertical-align: top; \r\n",
       "    margin: 0em 0px;\r\n",
       "}\r\n",
       "table tr td pre \r\n",
       "{ \r\n",
       "    vertical-align: top !important; \r\n",
       "    margin: 0em 0px !important;\r\n",
       "} \r\n",
       "table th {\r\n",
       "    text-align: start;\r\n",
       "}\r\n",
       "</style>"
      ]
     },
     "metadata": {},
     "output_type": "display_data"
    }
   ],
   "source": [
    "List<string> validstates = new(){\n",
    "            \"completed\", \"active\",\"others\"\n",
    "        };\n",
    "string state = \"foo\";\n",
    "\n",
    "if(String.IsNullOrEmpty(state) && !validstates.Contains(state))\n",
    "                throw new ArgumentException($\"Invalid state {state}\");\n",
    "String.IsNullOrEmpty(state).Display();\n",
    "validstates.Contains(state).Display();"
   ]
  },
  {
   "cell_type": "markdown",
   "metadata": {},
   "source": [
    "# Delegates, Events and Lambdas"
   ]
  },
  {
   "cell_type": "code",
   "execution_count": 16,
   "metadata": {
    "dotnet_interactive": {
     "language": "csharp"
    },
    "polyglot_notebook": {
     "kernelName": "csharp"
    },
    "vscode": {
     "languageId": "polyglot-notebook"
    }
   },
   "outputs": [
    {
     "name": "stdout",
     "output_type": "stream",
     "text": [
      "Adding 40 and 40\n",
      "40 + 40 = 80\n",
      "390\n",
      "Adding 300 and 300\n",
      "Subtracting 300 and 300\n"
     ]
    },
    {
     "data": {
      "text/html": [
       "<div class=\"dni-plaintext\"><pre>0</pre></div><style>\r\n",
       ".dni-code-hint {\r\n",
       "    font-style: italic;\r\n",
       "    overflow: hidden;\r\n",
       "    white-space: nowrap;\r\n",
       "}\r\n",
       ".dni-treeview {\r\n",
       "    white-space: nowrap;\r\n",
       "}\r\n",
       ".dni-treeview td {\r\n",
       "    vertical-align: top;\r\n",
       "    text-align: start;\r\n",
       "}\r\n",
       "details.dni-treeview {\r\n",
       "    padding-left: 1em;\r\n",
       "}\r\n",
       "table td {\r\n",
       "    text-align: start;\r\n",
       "}\r\n",
       "table tr { \r\n",
       "    vertical-align: top; \r\n",
       "    margin: 0em 0px;\r\n",
       "}\r\n",
       "table tr td pre \r\n",
       "{ \r\n",
       "    vertical-align: top !important; \r\n",
       "    margin: 0em 0px !important;\r\n",
       "} \r\n",
       "table th {\r\n",
       "    text-align: start;\r\n",
       "}\r\n",
       "</style>"
      ]
     },
     "metadata": {},
     "output_type": "display_data"
    }
   ],
   "source": [
    "static int Add(int x, int y)\n",
    "{\n",
    "    Console.WriteLine(\"Adding {0} and {1}\", x, y);  \n",
    "    return x + y;\n",
    "}\n",
    "\n",
    "static int Sub(int x, int y)\n",
    "{\n",
    "    Console.WriteLine(\"Subtracting {0} and {1}\", x, y);\n",
    "    return x - y;\n",
    "}\n",
    "\n",
    "static string SumToString(int x, int y)\n",
    "{\n",
    "return (x + y).ToString();\n",
    "}\n",
    "\n",
    "Func<int, int, int> funcTarget = Add;\n",
    "int result = funcTarget.Invoke(40, 40);\n",
    "Console.WriteLine(\"40 + 40 = {0}\", result);\n",
    "\n",
    "Func<int, int, string> funcTarget2 = SumToString;\n",
    "string sum = funcTarget2(90, 300);\n",
    "Console.WriteLine(sum);\n",
    "\n",
    "funcTarget+=Sub;\n",
    "var res = funcTarget(300, 300);\n",
    "res.Display()\n",
    "\n"
   ]
  },
  {
   "cell_type": "code",
   "execution_count": 18,
   "metadata": {
    "dotnet_interactive": {
     "language": "csharp"
    },
    "polyglot_notebook": {
     "kernelName": "csharp"
    },
    "vscode": {
     "languageId": "polyglot-notebook"
    }
   },
   "outputs": [
    {
     "name": "stdout",
     "output_type": "stream",
     "text": [
      "***** Fun with Lambdas *****\n",
      "\n",
      "Here are your even numbers:\n"
     ]
    },
    {
     "data": {
      "text/html": [
       "<div class=\"dni-plaintext\"><pre>[ 20, 4, 8, 44 ]</pre></div><style>\r\n",
       ".dni-code-hint {\r\n",
       "    font-style: italic;\r\n",
       "    overflow: hidden;\r\n",
       "    white-space: nowrap;\r\n",
       "}\r\n",
       ".dni-treeview {\r\n",
       "    white-space: nowrap;\r\n",
       "}\r\n",
       ".dni-treeview td {\r\n",
       "    vertical-align: top;\r\n",
       "    text-align: start;\r\n",
       "}\r\n",
       "details.dni-treeview {\r\n",
       "    padding-left: 1em;\r\n",
       "}\r\n",
       "table td {\r\n",
       "    text-align: start;\r\n",
       "}\r\n",
       "table tr { \r\n",
       "    vertical-align: top; \r\n",
       "    margin: 0em 0px;\r\n",
       "}\r\n",
       "table tr td pre \r\n",
       "{ \r\n",
       "    vertical-align: top !important; \r\n",
       "    margin: 0em 0px !important;\r\n",
       "} \r\n",
       "table th {\r\n",
       "    text-align: start;\r\n",
       "}\r\n",
       "</style>"
      ]
     },
     "metadata": {},
     "output_type": "display_data"
    }
   ],
   "source": [
    "//traditional delegate syntax\n",
    "\n",
    "Console.WriteLine(\"***** Fun with Lambdas *****\\n\");\n",
    "TraditionalDelegateSyntax();\n",
    "Console.ReadLine();\n",
    "static void TraditionalDelegateSyntax()\n",
    "{\n",
    "    // Make a list of integers.\n",
    "    List<int> list = new List<int>();\n",
    "    list.AddRange(new int[] { 20, 1, 4, 8, 9, 44 });\n",
    "    // Call FindAll() using traditional delegate syntax.\n",
    "    Predicate<int> callback = IsEvenNumber;\n",
    "    List<int> evenNumbers = list.FindAll(callback);\n",
    "    Console.WriteLine(\"Here are your even numbers:\");\n",
    "    evenNumbers.Display();\n",
    "}\n",
    "// Target for the Predicate<> delegate.\n",
    "static bool IsEvenNumber(int i)\n",
    "{\n",
    "    // Is it an even number?\n",
    "    return (i % 2) == 0;\n",
    "}"
   ]
  },
  {
   "cell_type": "code",
   "execution_count": 19,
   "metadata": {
    "dotnet_interactive": {
     "language": "csharp"
    },
    "polyglot_notebook": {
     "kernelName": "csharp"
    },
    "vscode": {
     "languageId": "polyglot-notebook"
    }
   },
   "outputs": [
    {
     "name": "stdout",
     "output_type": "stream",
     "text": [
      "Here are your even numbers:\n",
      "20\t4\t8\t44\t\n"
     ]
    }
   ],
   "source": [
    "//Anonymous method\n",
    "\n",
    "List<int> list = new List<int>();\n",
    "list.AddRange(new int[] { 20, 1, 4, 8, 9, 44 });\n",
    "// Now, use an anonymous method.\n",
    "List<int> evenNumbers =\n",
    "list.FindAll(delegate(int i) { return (i % 2) == 0; } );\n",
    "Console.WriteLine(\"Here are your even numbers:\");\n",
    "foreach (int evenNumber in evenNumbers)\n",
    "{\n",
    "Console.Write(\"{0}\\t\", evenNumber);\n",
    "}\n",
    "Console.WriteLine();"
   ]
  },
  {
   "cell_type": "code",
   "execution_count": null,
   "metadata": {
    "dotnet_interactive": {
     "language": "csharp"
    },
    "polyglot_notebook": {
     "kernelName": "csharp"
    },
    "vscode": {
     "languageId": "polyglot-notebook"
    }
   },
   "outputs": [],
   "source": [
    "//Lambda expression\n",
    "List<int> list = new List<int>();\n",
    "list.AddRange(new int[] { 20, 1, 4, 8, 9, 44 });\n",
    "// Now, use a C# lambda expression.\n",
    "List<int> evenNumbers = list.FindAll(i => (i % 2) == 0);\n",
    "Console.WriteLine(\"Here are your even numbers:\");\n",
    "foreach (int evenNumber in evenNumbers)\n",
    "{\n",
    "    Console.Write(\"{0}\\t\", evenNumber);\n",
    "}\n",
    "Console.WriteLine();"
   ]
  },
  {
   "cell_type": "code",
   "execution_count": 20,
   "metadata": {
    "dotnet_interactive": {
     "language": "csharp"
    },
    "polyglot_notebook": {
     "kernelName": "csharp"
    },
    "vscode": {
     "languageId": "polyglot-notebook"
    }
   },
   "outputs": [
    {
     "name": "stdout",
     "output_type": "stream",
     "text": [
      "value of i is currently: 20\n",
      "value of i is currently: 1\n",
      "value of i is currently: 4\n",
      "value of i is currently: 8\n",
      "value of i is currently: 9\n",
      "value of i is currently: 44\n",
      "Here are your even numbers:\n",
      "20\t4\t8\t44\t\n"
     ]
    }
   ],
   "source": [
    "//Multi Line Lambda\n",
    "List<int> list = new List<int>();\n",
    "list.AddRange(new int[] { 20, 1, 4, 8, 9, 44 });\n",
    "// Now process each argument within a group of\n",
    "// code statements.\n",
    "List<int> evenNumbers = list.FindAll((i) =>\n",
    "{\n",
    "    Console.WriteLine(\"value of i is currently: {0}\", i);\n",
    "    bool isEven = ((i % 2) == 0);\n",
    "    return isEven;\n",
    "});\n",
    "Console.WriteLine(\"Here are your even numbers:\");\n",
    "foreach (int evenNumber in evenNumbers)\n",
    "{\n",
    "    Console.Write(\"{0}\\t\", evenNumber);\n",
    "}\n",
    "Console.WriteLine();\n"
   ]
  },
  {
   "cell_type": "markdown",
   "metadata": {},
   "source": [
    "# LINQ"
   ]
  },
  {
   "cell_type": "code",
   "execution_count": 1,
   "metadata": {
    "dotnet_interactive": {
     "language": "csharp"
    },
    "polyglot_notebook": {
     "kernelName": "csharp"
    },
    "vscode": {
     "languageId": "polyglot-notebook"
    }
   },
   "outputs": [
    {
     "name": "stdout",
     "output_type": "stream",
     "text": [
      "***** Fun with LINQ to Objects *****\n",
      "\r\n"
     ]
    },
    {
     "data": {
      "text/html": [
       "<div class=\"dni-plaintext\"><pre>[ Fallout 3, System Shock 2, Uncharted 2 ]</pre></div><style>\r\n",
       ".dni-code-hint {\r\n",
       "    font-style: italic;\r\n",
       "    overflow: hidden;\r\n",
       "    white-space: nowrap;\r\n",
       "}\r\n",
       ".dni-treeview {\r\n",
       "    white-space: nowrap;\r\n",
       "}\r\n",
       ".dni-treeview td {\r\n",
       "    vertical-align: top;\r\n",
       "    text-align: start;\r\n",
       "}\r\n",
       "details.dni-treeview {\r\n",
       "    padding-left: 1em;\r\n",
       "}\r\n",
       "table td {\r\n",
       "    text-align: start;\r\n",
       "}\r\n",
       "table tr { \r\n",
       "    vertical-align: top; \r\n",
       "    margin: 0em 0px;\r\n",
       "}\r\n",
       "table tr td pre \r\n",
       "{ \r\n",
       "    vertical-align: top !important; \r\n",
       "    margin: 0em 0px !important;\r\n",
       "} \r\n",
       "table th {\r\n",
       "    text-align: start;\r\n",
       "}\r\n",
       "</style>"
      ]
     },
     "metadata": {},
     "output_type": "display_data"
    }
   ],
   "source": [
    "static void QueryOverStrings()\n",
    "{\n",
    "// Assume we have an array of strings.\n",
    "    string[] currentVideoGames = {\"Morrowind\", \"Uncharted 2\", \"Fallout 3\", \"Daxter\", \"System Shock 2\"};\n",
    "    IEnumerable<string> subset =\n",
    "        from g in currentVideoGames\n",
    "        where g.Contains(\" \")\n",
    "        orderby g\n",
    "        select g;\n",
    "    // “Give me the items inside of currentVideoGames that contain a space, ordered alphabetically.”\n",
    "// Print out the results.\n",
    "//         foreach (string s in subset)\n",
    "//             {\n",
    "//             Console.WriteLine(\"Item: {0}\", s);\n",
    "//             }\n",
    "// \n",
    "    subset.Display();\n",
    "}\n",
    "\n",
    "\n",
    "Console.WriteLine(\"***** Fun with LINQ to Objects *****\\n\");\n",
    "QueryOverStrings();\n",
    "Console.ReadLine();"
   ]
  },
  {
   "cell_type": "code",
   "execution_count": 2,
   "metadata": {
    "dotnet_interactive": {
     "language": "csharp"
    },
    "polyglot_notebook": {
     "kernelName": "csharp"
    },
    "vscode": {
     "languageId": "polyglot-notebook"
    }
   },
   "outputs": [
    {
     "name": "stdout",
     "output_type": "stream",
     "text": [
      "***** Fun with LINQ to Objects with Ext Methods *****\n",
      "\r\n"
     ]
    },
    {
     "data": {
      "text/html": [
       "<div class=\"dni-plaintext\"><pre>[ Fallout 3, System Shock 2, Uncharted 2 ]</pre></div><style>\r\n",
       ".dni-code-hint {\r\n",
       "    font-style: italic;\r\n",
       "    overflow: hidden;\r\n",
       "    white-space: nowrap;\r\n",
       "}\r\n",
       ".dni-treeview {\r\n",
       "    white-space: nowrap;\r\n",
       "}\r\n",
       ".dni-treeview td {\r\n",
       "    vertical-align: top;\r\n",
       "    text-align: start;\r\n",
       "}\r\n",
       "details.dni-treeview {\r\n",
       "    padding-left: 1em;\r\n",
       "}\r\n",
       "table td {\r\n",
       "    text-align: start;\r\n",
       "}\r\n",
       "table tr { \r\n",
       "    vertical-align: top; \r\n",
       "    margin: 0em 0px;\r\n",
       "}\r\n",
       "table tr td pre \r\n",
       "{ \r\n",
       "    vertical-align: top !important; \r\n",
       "    margin: 0em 0px !important;\r\n",
       "} \r\n",
       "table th {\r\n",
       "    text-align: start;\r\n",
       "}\r\n",
       "</style>"
      ]
     },
     "metadata": {},
     "output_type": "display_data"
    }
   ],
   "source": [
    "// Linq with Extention Methods:\n",
    "static void QueryOverStringsWithExtensionMethods()\n",
    "{\n",
    "// Assume we have an array of strings.\n",
    "    string[] currentVideoGames = {\"Morrowind\", \"Uncharted 2\", \"Fallout 3\", \"Daxter\", \"System Shock 2\"};\n",
    "    // Build a query expression to find the items in the array\n",
    "    // that have an embedded space.\n",
    "    IEnumerable<string> subset =\n",
    "    currentVideoGames.Where(g => g.Contains(\" \")).OrderBy(g => g).Select(g => g);\n",
    "    // Print out the results.\n",
    "    foreach (string s in subset)\n",
    "    {\n",
    "        Console.WriteLine(\"Item: {0}\", s);\n",
    "    }\n",
    "}\n",
    "\n",
    "Console.WriteLine(\"***** Fun with LINQ to Objects with Ext Methods *****\\n\");\n",
    "QueryOverStrings();\n",
    "Console.ReadLine();"
   ]
  },
  {
   "cell_type": "code",
   "execution_count": 3,
   "metadata": {
    "dotnet_interactive": {
     "language": "csharp"
    },
    "polyglot_notebook": {
     "kernelName": "csharp"
    },
    "vscode": {
     "languageId": "polyglot-notebook"
    }
   },
   "outputs": [
    {
     "name": "stdout",
     "output_type": "stream",
     "text": [
      "***** Fun withOUT LINQ *****\n",
      "\r\n"
     ]
    },
    {
     "data": {
      "text/html": [
       "<div class=\"dni-plaintext\"><pre>[ Fallout 3, System Shock 2, Uncharted 2 ]</pre></div><style>\r\n",
       ".dni-code-hint {\r\n",
       "    font-style: italic;\r\n",
       "    overflow: hidden;\r\n",
       "    white-space: nowrap;\r\n",
       "}\r\n",
       ".dni-treeview {\r\n",
       "    white-space: nowrap;\r\n",
       "}\r\n",
       ".dni-treeview td {\r\n",
       "    vertical-align: top;\r\n",
       "    text-align: start;\r\n",
       "}\r\n",
       "details.dni-treeview {\r\n",
       "    padding-left: 1em;\r\n",
       "}\r\n",
       "table td {\r\n",
       "    text-align: start;\r\n",
       "}\r\n",
       "table tr { \r\n",
       "    vertical-align: top; \r\n",
       "    margin: 0em 0px;\r\n",
       "}\r\n",
       "table tr td pre \r\n",
       "{ \r\n",
       "    vertical-align: top !important; \r\n",
       "    margin: 0em 0px !important;\r\n",
       "} \r\n",
       "table th {\r\n",
       "    text-align: start;\r\n",
       "}\r\n",
       "</style>"
      ]
     },
     "metadata": {},
     "output_type": "display_data"
    }
   ],
   "source": [
    "static void QueryOverStringsLongHand()\n",
    "{\n",
    "    // Assume we have an array of strings.\n",
    "    string[] currentVideoGames = {\"Morrowind\", \"Uncharted 2\", \"Fallout 3\", \"Daxter\", \"System Shock 2\"};\n",
    "    string[] gamesWithSpaces = new string[5];\n",
    "    for (int i = 0; i < currentVideoGames.Length; i++)\n",
    "    {\n",
    "        if (currentVideoGames[i].Contains(\" \"))\n",
    "        {\n",
    "            gamesWithSpaces[i] = currentVideoGames[i];\n",
    "        }\n",
    "    }\n",
    "    // Now sort them.\n",
    "    Array.Sort(gamesWithSpaces);\n",
    "    // Print out the results.\n",
    "    foreach (string s in gamesWithSpaces)\n",
    "    {\n",
    "        if( s != null)\n",
    "        {\n",
    "            Console.WriteLine(\"Item: {0}\", s);\n",
    "        }\n",
    "    }\n",
    "    Console.WriteLine();\n",
    "}\n",
    "\n",
    "Console.WriteLine(\"***** Fun withOUT LINQ *****\\n\");\n",
    "QueryOverStrings();\n",
    "Console.ReadLine();"
   ]
  },
  {
   "cell_type": "code",
   "execution_count": 4,
   "metadata": {
    "dotnet_interactive": {
     "language": "csharp"
    },
    "polyglot_notebook": {
     "kernelName": "csharp"
    },
    "vscode": {
     "languageId": "polyglot-notebook"
    }
   },
   "outputs": [
    {
     "name": "stdout",
     "output_type": "stream",
     "text": [
      "1 < 10\n",
      "2 < 10\n",
      "3 < 10\n",
      "8 < 10\n",
      "\n",
      "4 < 10\n",
      "1 < 10\n",
      "2 < 10\n",
      "3 < 10\n",
      "8 < 10\n",
      "\n"
     ]
    }
   ],
   "source": [
    "// Differed execution in LINQ:\n",
    "\n",
    "int[] numbers = { 10, 20, 30, 40, 1, 2, 3, 8 };\n",
    "// Get numbers less than ten.\n",
    "var subset = from i in numbers where i < 10 select i;\n",
    "// LINQ statement evaluated here!\n",
    "foreach (var i in subset)\n",
    "{\n",
    "    Console.WriteLine(\"{0} < 10\", i);\n",
    "}\n",
    "Console.WriteLine();\n",
    "// Change some data in the array.\n",
    "numbers[0] = 4;\n",
    "// Evaluated again!\n",
    "foreach (var j in subset)\n",
    "{\n",
    "    Console.WriteLine(\"{0} < 10\", j);\n",
    "}\n",
    "Console.WriteLine();    "
   ]
  },
  {
   "cell_type": "markdown",
   "metadata": {},
   "source": [
    "# Json Processing"
   ]
  },
  {
   "cell_type": "code",
   "execution_count": 17,
   "metadata": {
    "dotnet_interactive": {
     "language": "csharp"
    },
    "polyglot_notebook": {
     "kernelName": "csharp"
    },
    "vscode": {
     "languageId": "polyglot-notebook"
    }
   },
   "outputs": [
    {
     "name": "stdout",
     "output_type": "stream",
     "text": [
      "Token Endpoint - https://login.microsoftonline.com/common/oauth2/token\n",
      "Token Endpoint - https://login.microsoftonline.com/common/oauth2/token\n",
      "token_endpoint - https://login.microsoftonline.com/common/oauth2/token\n",
      "token_endpoint_auth_methods_supported - [\n",
      "  \"client_secret_post\",\n",
      "  \"private_key_jwt\",\n",
      "  \"client_secret_basic\"\n",
      "]\n",
      "jwks_uri - https://login.microsoftonline.com/common/discovery/keys\n",
      "response_modes_supported - [\n",
      "  \"query\",\n",
      "  \"fragment\",\n",
      "  \"form_post\"\n",
      "]\n",
      "subject_types_supported - [\n",
      "  \"pairwise\"\n",
      "]\n",
      "id_token_signing_alg_values_supported - [\n",
      "  \"RS256\"\n",
      "]\n",
      "response_types_supported - [\n",
      "  \"code\",\n",
      "  \"id_token\",\n",
      "  \"code id_token\",\n",
      "  \"token id_token\",\n",
      "  \"token\"\n",
      "]\n",
      "scopes_supported - [\n",
      "  \"openid\"\n",
      "]\n",
      "issuer - https://sts.windows.net/{tenantid}/\n",
      "microsoft_multi_refresh_token - true\n",
      "authorization_endpoint - https://login.microsoftonline.com/common/oauth2/authorize\n",
      "device_authorization_endpoint - https://login.microsoftonline.com/common/oauth2/devicecode\n",
      "http_logout_supported - true\n",
      "frontchannel_logout_supported - true\n",
      "end_session_endpoint - https://login.microsoftonline.com/common/oauth2/logout\n",
      "claims_supported - [\n",
      "  \"sub\",\n",
      "  \"iss\",\n",
      "  \"cloud_instance_name\",\n",
      "  \"cloud_instance_host_name\",\n",
      "  \"cloud_graph_host_name\",\n",
      "  \"msgraph_host\",\n",
      "  \"aud\",\n",
      "  \"exp\",\n",
      "  \"iat\",\n",
      "  \"auth_time\",\n",
      "  \"acr\",\n",
      "  \"amr\",\n",
      "  \"nonce\",\n",
      "  \"email\",\n",
      "  \"given_name\",\n",
      "  \"family_name\",\n",
      "  \"nickname\"\n",
      "]\n",
      "check_session_iframe - https://login.microsoftonline.com/common/oauth2/checksession\n",
      "userinfo_endpoint - https://login.microsoftonline.com/common/openid/userinfo\n",
      "kerberos_endpoint - https://login.microsoftonline.com/common/kerberos\n",
      "tenant_region_scope - \n",
      "cloud_instance_name - microsoftonline.com\n",
      "cloud_graph_host_name - graph.windows.net\n",
      "msgraph_host - graph.microsoft.com\n",
      "rbac_url - https://pas.windows.net\n"
     ]
    }
   ],
   "source": [
    "using System.Net.Http;\n",
    "using System.Text.Json.Nodes;\n",
    "using System.Text.Json;\n",
    "\n",
    "string responsestring;\n",
    "\n",
    "using(HttpClient client = new()){\n",
    "    var response = await client.GetAsync(\"https://login.microsoftonline.com/common/.well-known/openid-configuration\");\n",
    "    responsestring = await response.Content.ReadAsStringAsync();\n",
    "}\n",
    "\n",
    "    var jsonobj = JsonSerializer.Deserialize<JsonObject>(responsestring);\n",
    "     Console.WriteLine($\"Token Endpoint - {jsonobj[\"token_endpoint\"]}\");\n",
    "     foreach(var (key,value) in jsonobj)\n",
    "     {\n",
    "        Console.WriteLine($\"{key} - {value}\");\n",
    "     }"
   ]
  },
  {
   "cell_type": "code",
   "execution_count": null,
   "metadata": {
    "dotnet_interactive": {
     "language": "csharp"
    },
    "polyglot_notebook": {
     "kernelName": "csharp"
    },
    "vscode": {
     "languageId": "polyglot-notebook"
    }
   },
   "outputs": [],
   "source": []
  }
 ],
 "metadata": {
  "kernelspec": {
   "display_name": ".NET (C#)",
   "language": "C#",
   "name": ".net-csharp"
  },
  "language_info": {
   "name": "python"
  },
  "polyglot_notebook": {
   "kernelInfo": {
    "defaultKernelName": "csharp",
    "items": [
     {
      "aliases": [],
      "name": "csharp"
     }
    ]
   }
  }
 },
 "nbformat": 4,
 "nbformat_minor": 2
}
